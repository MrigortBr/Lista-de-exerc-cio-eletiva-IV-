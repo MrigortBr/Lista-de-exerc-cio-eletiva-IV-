{
 "cells": [
  {
   "cell_type": "markdown",
   "id": "0aa629cc",
   "metadata": {},
   "source": [
    "Bibliotecas necessarias para instalar\n",
    "\n",
    "pip install pandas\n",
    "pip install tabulate (opicional)\n",
    "pip install scikit-learn\n",
    "pip install plotly\n",
    "\n",
    "\n"
   ]
  },
  {
   "cell_type": "markdown",
   "id": "fc2baab3",
   "metadata": {},
   "source": [
    "Obs: Ia utilizar o tkinter ou criar GUI console mas nao tive tempo... perdao pela qualidade do codigo faz um tempinho que nao pego em python"
   ]
  },
  {
   "cell_type": "markdown",
   "id": "dd907d70",
   "metadata": {},
   "source": []
  }
 ],
 "metadata": {
  "language_info": {
   "name": "python"
  }
 },
 "nbformat": 4,
 "nbformat_minor": 5
}
