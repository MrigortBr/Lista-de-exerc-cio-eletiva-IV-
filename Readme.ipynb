Bibliotecas necessarias para instalar

pip install pandas
pip install tabulate (opicional)
pip install scikit-learn
pip install plotly


Obs: Ia utilizar o tkinter ou criar GUI console mas nao tive tempo... perdao pela qualidade do codigo faz um tempinho que nao pego em python
